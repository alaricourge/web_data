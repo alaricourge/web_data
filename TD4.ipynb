{
 "cells": [
  {
   "cell_type": "code",
   "execution_count": 1,
   "metadata": {},
   "outputs": [
    {
     "ename": "KeyboardInterrupt",
     "evalue": "",
     "output_type": "error",
     "traceback": [
      "\u001b[1;31m---------------------------------------------------------------------------\u001b[0m",
      "\u001b[1;31mKeyboardInterrupt\u001b[0m                         Traceback (most recent call last)",
      "Cell \u001b[1;32mIn[1], line 1\u001b[0m\n\u001b[1;32m----> 1\u001b[0m \u001b[38;5;28;01mfrom\u001b[39;00m \u001b[38;5;21;01mpykeen\u001b[39;00m\u001b[38;5;21;01m.\u001b[39;00m\u001b[38;5;21;01mpipeline\u001b[39;00m \u001b[38;5;28;01mimport\u001b[39;00m pipeline\n\u001b[0;32m      2\u001b[0m \u001b[38;5;28;01mfrom\u001b[39;00m \u001b[38;5;21;01mpykeen\u001b[39;00m\u001b[38;5;21;01m.\u001b[39;00m\u001b[38;5;21;01mtriples\u001b[39;00m \u001b[38;5;28;01mimport\u001b[39;00m TriplesFactory\n\u001b[0;32m      4\u001b[0m \u001b[38;5;66;03m# Sample RDF triple list (replace this with your real RDF data)\u001b[39;00m\n\u001b[0;32m      5\u001b[0m \u001b[38;5;66;03m# For example: triples = [(str(s), str(p), str(o)) for s, p, o in graph]\u001b[39;00m\n",
      "File \u001b[1;32m~\\AppData\\Local\\Packages\\PythonSoftwareFoundation.Python.3.11_qbz5n2kfra8p0\\LocalCache\\local-packages\\Python311\\site-packages\\pykeen\\pipeline\\__init__.py:3\u001b[0m\n\u001b[0;32m      1\u001b[0m \u001b[38;5;124;03m\"\"\"The PyKEEN pipeline and related wrapper functions.\"\"\"\u001b[39;00m\n\u001b[1;32m----> 3\u001b[0m \u001b[38;5;28;01mfrom\u001b[39;00m \u001b[38;5;21;01m.\u001b[39;00m\u001b[38;5;21;01mapi\u001b[39;00m \u001b[38;5;28;01mimport\u001b[39;00m (\n\u001b[0;32m      4\u001b[0m     PipelineResult,\n\u001b[0;32m      5\u001b[0m     pipeline,\n\u001b[0;32m      6\u001b[0m     pipeline_from_config,\n\u001b[0;32m      7\u001b[0m     pipeline_from_path,\n\u001b[0;32m      8\u001b[0m     replicate_pipeline_from_config,\n\u001b[0;32m      9\u001b[0m     replicate_pipeline_from_path,\n\u001b[0;32m     10\u001b[0m )\n\u001b[0;32m     11\u001b[0m \u001b[38;5;28;01mfrom\u001b[39;00m \u001b[38;5;21;01m.\u001b[39;00m\u001b[38;5;21;01mplot_utils\u001b[39;00m \u001b[38;5;28;01mimport\u001b[39;00m plot, plot_early_stopping, plot_er, plot_losses\n\u001b[0;32m     13\u001b[0m __all__ \u001b[38;5;241m=\u001b[39m [\n\u001b[0;32m     14\u001b[0m     \u001b[38;5;124m\"\u001b[39m\u001b[38;5;124mPipelineResult\u001b[39m\u001b[38;5;124m\"\u001b[39m,\n\u001b[0;32m     15\u001b[0m     \u001b[38;5;124m\"\u001b[39m\u001b[38;5;124mpipeline_from_path\u001b[39m\u001b[38;5;124m\"\u001b[39m,\n\u001b[1;32m   (...)\u001b[0m\n\u001b[0;32m     23\u001b[0m     \u001b[38;5;124m\"\u001b[39m\u001b[38;5;124mplot\u001b[39m\u001b[38;5;124m\"\u001b[39m,\n\u001b[0;32m     24\u001b[0m ]\n",
      "File \u001b[1;32m~\\AppData\\Local\\Packages\\PythonSoftwareFoundation.Python.3.11_qbz5n2kfra8p0\\LocalCache\\local-packages\\Python311\\site-packages\\pykeen\\pipeline\\api.py:208\u001b[0m\n\u001b[0;32m    205\u001b[0m \u001b[38;5;28;01mfrom\u001b[39;00m \u001b[38;5;21;01mclass_resolver\u001b[39;00m\u001b[38;5;21;01m.\u001b[39;00m\u001b[38;5;21;01mutils\u001b[39;00m \u001b[38;5;28;01mimport\u001b[39;00m OneOrManyHintOrType, OneOrManyOptionalKwargs\n\u001b[0;32m    206\u001b[0m \u001b[38;5;28;01mfrom\u001b[39;00m \u001b[38;5;21;01mtorch\u001b[39;00m\u001b[38;5;21;01m.\u001b[39;00m\u001b[38;5;21;01moptim\u001b[39;00m\u001b[38;5;21;01m.\u001b[39;00m\u001b[38;5;21;01moptimizer\u001b[39;00m \u001b[38;5;28;01mimport\u001b[39;00m Optimizer\n\u001b[1;32m--> 208\u001b[0m \u001b[38;5;28;01mfrom\u001b[39;00m \u001b[38;5;21;01m.\u001b[39;00m\u001b[38;5;21;01m.\u001b[39;00m\u001b[38;5;21;01mconstants\u001b[39;00m \u001b[38;5;28;01mimport\u001b[39;00m PYKEEN_CHECKPOINTS, USER_DEFINED_CODE\n\u001b[0;32m    209\u001b[0m \u001b[38;5;28;01mfrom\u001b[39;00m \u001b[38;5;21;01m.\u001b[39;00m\u001b[38;5;21;01m.\u001b[39;00m\u001b[38;5;21;01mdatasets\u001b[39;00m \u001b[38;5;28;01mimport\u001b[39;00m get_dataset\n\u001b[0;32m    210\u001b[0m \u001b[38;5;28;01mfrom\u001b[39;00m \u001b[38;5;21;01m.\u001b[39;00m\u001b[38;5;21;01m.\u001b[39;00m\u001b[38;5;21;01mdatasets\u001b[39;00m\u001b[38;5;21;01m.\u001b[39;00m\u001b[38;5;21;01mbase\u001b[39;00m \u001b[38;5;28;01mimport\u001b[39;00m Dataset\n",
      "File \u001b[1;32m~\\AppData\\Local\\Packages\\PythonSoftwareFoundation.Python.3.11_qbz5n2kfra8p0\\LocalCache\\local-packages\\Python311\\site-packages\\pykeen\\constants.py:6\u001b[0m\n\u001b[0;32m      3\u001b[0m \u001b[38;5;28;01mfrom\u001b[39;00m \u001b[38;5;21;01mcollections\u001b[39;00m\u001b[38;5;21;01m.\u001b[39;00m\u001b[38;5;21;01mabc\u001b[39;00m \u001b[38;5;28;01mimport\u001b[39;00m Mapping\n\u001b[0;32m      4\u001b[0m \u001b[38;5;28;01mfrom\u001b[39;00m \u001b[38;5;21;01mpathlib\u001b[39;00m \u001b[38;5;28;01mimport\u001b[39;00m Path\n\u001b[1;32m----> 6\u001b[0m \u001b[38;5;28;01mimport\u001b[39;00m \u001b[38;5;21;01mpystow\u001b[39;00m\n\u001b[0;32m      7\u001b[0m \u001b[38;5;28;01mimport\u001b[39;00m \u001b[38;5;21;01mtorch\u001b[39;00m\n\u001b[0;32m      9\u001b[0m \u001b[38;5;28;01mfrom\u001b[39;00m \u001b[38;5;21;01m.\u001b[39;00m\u001b[38;5;21;01mtyping\u001b[39;00m \u001b[38;5;28;01mimport\u001b[39;00m (\n\u001b[0;32m     10\u001b[0m     COLUMN_HEAD,\n\u001b[0;32m     11\u001b[0m     COLUMN_RELATION,\n\u001b[1;32m   (...)\u001b[0m\n\u001b[0;32m     17\u001b[0m     TargetColumn,\n\u001b[0;32m     18\u001b[0m )\n",
      "File \u001b[1;32m~\\AppData\\Local\\Packages\\PythonSoftwareFoundation.Python.3.11_qbz5n2kfra8p0\\LocalCache\\local-packages\\Python311\\site-packages\\pystow\\__init__.py:3\u001b[0m\n\u001b[0;32m      1\u001b[0m \u001b[38;5;124;03m\"\"\"PyStow: Easily pick a place to store data for your python package.\"\"\"\u001b[39;00m\n\u001b[1;32m----> 3\u001b[0m \u001b[38;5;28;01mfrom\u001b[39;00m \u001b[38;5;21;01m.\u001b[39;00m\u001b[38;5;21;01mapi\u001b[39;00m \u001b[38;5;28;01mimport\u001b[39;00m (\n\u001b[0;32m      4\u001b[0m     dump_df,\n\u001b[0;32m      5\u001b[0m     dump_json,\n\u001b[0;32m      6\u001b[0m     dump_pickle,\n\u001b[0;32m      7\u001b[0m     dump_rdf,\n\u001b[0;32m      8\u001b[0m     dump_xml,\n\u001b[0;32m      9\u001b[0m     ensure,\n\u001b[0;32m     10\u001b[0m     ensure_csv,\n\u001b[0;32m     11\u001b[0m     ensure_custom,\n\u001b[0;32m     12\u001b[0m     ensure_excel,\n\u001b[0;32m     13\u001b[0m     ensure_from_google,\n\u001b[0;32m     14\u001b[0m     ensure_from_s3,\n\u001b[0;32m     15\u001b[0m     ensure_gunzip,\n\u001b[0;32m     16\u001b[0m     ensure_json,\n\u001b[0;32m     17\u001b[0m     ensure_json_bz2,\n\u001b[0;32m     18\u001b[0m     ensure_open,\n\u001b[0;32m     19\u001b[0m     ensure_open_bz2,\n\u001b[0;32m     20\u001b[0m     ensure_open_gz,\n\u001b[0;32m     21\u001b[0m     ensure_open_lzma,\n\u001b[0;32m     22\u001b[0m     ensure_open_sqlite,\n\u001b[0;32m     23\u001b[0m     ensure_open_sqlite_gz,\n\u001b[0;32m     24\u001b[0m     ensure_open_tarfile,\n\u001b[0;32m     25\u001b[0m     ensure_open_zip,\n\u001b[0;32m     26\u001b[0m     ensure_pickle,\n\u001b[0;32m     27\u001b[0m     ensure_pickle_gz,\n\u001b[0;32m     28\u001b[0m     ensure_rdf,\n\u001b[0;32m     29\u001b[0m     ensure_tar_df,\n\u001b[0;32m     30\u001b[0m     ensure_tar_xml,\n\u001b[0;32m     31\u001b[0m     ensure_untar,\n\u001b[0;32m     32\u001b[0m     ensure_xml,\n\u001b[0;32m     33\u001b[0m     ensure_zip_df,\n\u001b[0;32m     34\u001b[0m     ensure_zip_np,\n\u001b[0;32m     35\u001b[0m     join,\n\u001b[0;32m     36\u001b[0m     joinpath_sqlite,\n\u001b[0;32m     37\u001b[0m     load_df,\n\u001b[0;32m     38\u001b[0m     load_json,\n\u001b[0;32m     39\u001b[0m     load_pickle,\n\u001b[0;32m     40\u001b[0m     load_pickle_gz,\n\u001b[0;32m     41\u001b[0m     load_rdf,\n\u001b[0;32m     42\u001b[0m     load_xml,\n\u001b[0;32m     43\u001b[0m     module,\n\u001b[0;32m     44\u001b[0m     \u001b[38;5;28mopen\u001b[39m,\n\u001b[0;32m     45\u001b[0m     open_gz,\n\u001b[0;32m     46\u001b[0m )\n\u001b[0;32m     47\u001b[0m \u001b[38;5;28;01mfrom\u001b[39;00m \u001b[38;5;21;01m.\u001b[39;00m\u001b[38;5;21;01mconfig_api\u001b[39;00m \u001b[38;5;28;01mimport\u001b[39;00m ConfigError, get_config, write_config\n\u001b[0;32m     48\u001b[0m \u001b[38;5;28;01mfrom\u001b[39;00m \u001b[38;5;21;01m.\u001b[39;00m\u001b[38;5;21;01mimpl\u001b[39;00m \u001b[38;5;28;01mimport\u001b[39;00m Module, VersionHint\n",
      "File \u001b[1;32m~\\AppData\\Local\\Packages\\PythonSoftwareFoundation.Python.3.11_qbz5n2kfra8p0\\LocalCache\\local-packages\\Python311\\site-packages\\pystow\\api.py:21\u001b[0m\n\u001b[0;32m     13\u001b[0m \u001b[38;5;28;01mfrom\u001b[39;00m \u001b[38;5;21;01mtyping\u001b[39;00m \u001b[38;5;28;01mimport\u001b[39;00m (\n\u001b[0;32m     14\u001b[0m     TYPE_CHECKING,\n\u001b[0;32m     15\u001b[0m     Any,\n\u001b[0;32m     16\u001b[0m     Literal,\n\u001b[0;32m     17\u001b[0m     overload,\n\u001b[0;32m     18\u001b[0m )\n\u001b[0;32m     20\u001b[0m \u001b[38;5;28;01mfrom\u001b[39;00m \u001b[38;5;21;01m.\u001b[39;00m\u001b[38;5;21;01mconstants\u001b[39;00m \u001b[38;5;28;01mimport\u001b[39;00m JSON, BytesOpener, Provider\n\u001b[1;32m---> 21\u001b[0m \u001b[38;5;28;01mfrom\u001b[39;00m \u001b[38;5;21;01m.\u001b[39;00m\u001b[38;5;21;01mimpl\u001b[39;00m \u001b[38;5;28;01mimport\u001b[39;00m Module, VersionHint\n\u001b[0;32m     23\u001b[0m \u001b[38;5;28;01mif\u001b[39;00m TYPE_CHECKING:\n\u001b[0;32m     24\u001b[0m     \u001b[38;5;28;01mimport\u001b[39;00m \u001b[38;5;21;01mlxml\u001b[39;00m\u001b[38;5;21;01m.\u001b[39;00m\u001b[38;5;21;01metree\u001b[39;00m\n",
      "File \u001b[1;32m~\\AppData\\Local\\Packages\\PythonSoftwareFoundation.Python.3.11_qbz5n2kfra8p0\\LocalCache\\local-packages\\Python311\\site-packages\\pystow\\impl.py:33\u001b[0m\n\u001b[0;32m     20\u001b[0m \u001b[38;5;28;01mfrom\u001b[39;00m \u001b[38;5;21;01mtyping\u001b[39;00m \u001b[38;5;28;01mimport\u001b[39;00m (\n\u001b[0;32m     21\u001b[0m     TYPE_CHECKING,\n\u001b[0;32m     22\u001b[0m     Any,\n\u001b[1;32m   (...)\u001b[0m\n\u001b[0;32m     28\u001b[0m     overload,\n\u001b[0;32m     29\u001b[0m )\n\u001b[0;32m     31\u001b[0m \u001b[38;5;28;01mfrom\u001b[39;00m \u001b[38;5;21;01mtyping_extensions\u001b[39;00m \u001b[38;5;28;01mimport\u001b[39;00m TypeAlias\n\u001b[1;32m---> 33\u001b[0m \u001b[38;5;28;01mfrom\u001b[39;00m \u001b[38;5;21;01m.\u001b[39;00m \u001b[38;5;28;01mimport\u001b[39;00m utils\n\u001b[0;32m     34\u001b[0m \u001b[38;5;28;01mfrom\u001b[39;00m \u001b[38;5;21;01m.\u001b[39;00m\u001b[38;5;21;01mconstants\u001b[39;00m \u001b[38;5;28;01mimport\u001b[39;00m JSON, BytesOpener, Provider\n\u001b[0;32m     35\u001b[0m \u001b[38;5;28;01mfrom\u001b[39;00m \u001b[38;5;21;01m.\u001b[39;00m\u001b[38;5;21;01mutils\u001b[39;00m \u001b[38;5;28;01mimport\u001b[39;00m (\n\u001b[0;32m     36\u001b[0m     base_from_gzip_name,\n\u001b[0;32m     37\u001b[0m     download_from_google,\n\u001b[1;32m   (...)\u001b[0m\n\u001b[0;32m     49\u001b[0m     read_zipfile_csv,\n\u001b[0;32m     50\u001b[0m )\n",
      "File \u001b[1;32m~\\AppData\\Local\\Packages\\PythonSoftwareFoundation.Python.3.11_qbz5n2kfra8p0\\LocalCache\\local-packages\\Python311\\site-packages\\pystow\\utils.py:33\u001b[0m\n\u001b[0;32m     30\u001b[0m \u001b[38;5;28;01mfrom\u001b[39;00m \u001b[38;5;21;01murllib\u001b[39;00m\u001b[38;5;21;01m.\u001b[39;00m\u001b[38;5;21;01mrequest\u001b[39;00m \u001b[38;5;28;01mimport\u001b[39;00m urlretrieve\n\u001b[0;32m     31\u001b[0m \u001b[38;5;28;01mfrom\u001b[39;00m \u001b[38;5;21;01muuid\u001b[39;00m \u001b[38;5;28;01mimport\u001b[39;00m uuid4\n\u001b[1;32m---> 33\u001b[0m \u001b[38;5;28;01mimport\u001b[39;00m \u001b[38;5;21;01mrequests\u001b[39;00m\n\u001b[0;32m     34\u001b[0m \u001b[38;5;28;01mfrom\u001b[39;00m \u001b[38;5;21;01mtqdm\u001b[39;00m\u001b[38;5;21;01m.\u001b[39;00m\u001b[38;5;21;01mauto\u001b[39;00m \u001b[38;5;28;01mimport\u001b[39;00m tqdm\n\u001b[0;32m     35\u001b[0m \u001b[38;5;28;01mfrom\u001b[39;00m \u001b[38;5;21;01mtyping_extensions\u001b[39;00m \u001b[38;5;28;01mimport\u001b[39;00m TypeAlias\n",
      "File \u001b[1;32m~\\AppData\\Local\\Packages\\PythonSoftwareFoundation.Python.3.11_qbz5n2kfra8p0\\LocalCache\\local-packages\\Python311\\site-packages\\requests\\__init__.py:164\u001b[0m\n\u001b[0;32m    151\u001b[0m \u001b[38;5;28;01mfrom\u001b[39;00m \u001b[38;5;21;01m.\u001b[39;00m \u001b[38;5;28;01mimport\u001b[39;00m packages, utils\n\u001b[0;32m    152\u001b[0m \u001b[38;5;28;01mfrom\u001b[39;00m \u001b[38;5;21;01m.\u001b[39;00m\u001b[38;5;21;01m__version__\u001b[39;00m \u001b[38;5;28;01mimport\u001b[39;00m (\n\u001b[0;32m    153\u001b[0m     __author__,\n\u001b[0;32m    154\u001b[0m     __author_email__,\n\u001b[1;32m   (...)\u001b[0m\n\u001b[0;32m    162\u001b[0m     __version__,\n\u001b[0;32m    163\u001b[0m )\n\u001b[1;32m--> 164\u001b[0m \u001b[38;5;28;01mfrom\u001b[39;00m \u001b[38;5;21;01m.\u001b[39;00m\u001b[38;5;21;01mapi\u001b[39;00m \u001b[38;5;28;01mimport\u001b[39;00m delete, get, head, options, patch, post, put, request\n\u001b[0;32m    165\u001b[0m \u001b[38;5;28;01mfrom\u001b[39;00m \u001b[38;5;21;01m.\u001b[39;00m\u001b[38;5;21;01mexceptions\u001b[39;00m \u001b[38;5;28;01mimport\u001b[39;00m (\n\u001b[0;32m    166\u001b[0m     \u001b[38;5;167;01mConnectionError\u001b[39;00m,\n\u001b[0;32m    167\u001b[0m     ConnectTimeout,\n\u001b[1;32m   (...)\u001b[0m\n\u001b[0;32m    175\u001b[0m     URLRequired,\n\u001b[0;32m    176\u001b[0m )\n\u001b[0;32m    177\u001b[0m \u001b[38;5;28;01mfrom\u001b[39;00m \u001b[38;5;21;01m.\u001b[39;00m\u001b[38;5;21;01mmodels\u001b[39;00m \u001b[38;5;28;01mimport\u001b[39;00m PreparedRequest, Request, Response\n",
      "File \u001b[1;32m~\\AppData\\Local\\Packages\\PythonSoftwareFoundation.Python.3.11_qbz5n2kfra8p0\\LocalCache\\local-packages\\Python311\\site-packages\\requests\\api.py:11\u001b[0m\n\u001b[0;32m      1\u001b[0m \u001b[38;5;124;03m\"\"\"\u001b[39;00m\n\u001b[0;32m      2\u001b[0m \u001b[38;5;124;03mrequests.api\u001b[39;00m\n\u001b[0;32m      3\u001b[0m \u001b[38;5;124;03m~~~~~~~~~~~~\u001b[39;00m\n\u001b[1;32m   (...)\u001b[0m\n\u001b[0;32m      8\u001b[0m \u001b[38;5;124;03m:license: Apache2, see LICENSE for more details.\u001b[39;00m\n\u001b[0;32m      9\u001b[0m \u001b[38;5;124;03m\"\"\"\u001b[39;00m\n\u001b[1;32m---> 11\u001b[0m \u001b[38;5;28;01mfrom\u001b[39;00m \u001b[38;5;21;01m.\u001b[39;00m \u001b[38;5;28;01mimport\u001b[39;00m sessions\n\u001b[0;32m     14\u001b[0m \u001b[38;5;28;01mdef\u001b[39;00m \u001b[38;5;21mrequest\u001b[39m(method, url, \u001b[38;5;241m*\u001b[39m\u001b[38;5;241m*\u001b[39mkwargs):\n\u001b[0;32m     15\u001b[0m \u001b[38;5;250m    \u001b[39m\u001b[38;5;124;03m\"\"\"Constructs and sends a :class:`Request <Request>`.\u001b[39;00m\n\u001b[0;32m     16\u001b[0m \n\u001b[0;32m     17\u001b[0m \u001b[38;5;124;03m    :param method: method for the new :class:`Request` object: ``GET``, ``OPTIONS``, ``HEAD``, ``POST``, ``PUT``, ``PATCH``, or ``DELETE``.\u001b[39;00m\n\u001b[1;32m   (...)\u001b[0m\n\u001b[0;32m     52\u001b[0m \u001b[38;5;124;03m      <Response [200]>\u001b[39;00m\n\u001b[0;32m     53\u001b[0m \u001b[38;5;124;03m    \"\"\"\u001b[39;00m\n",
      "File \u001b[1;32m~\\AppData\\Local\\Packages\\PythonSoftwareFoundation.Python.3.11_qbz5n2kfra8p0\\LocalCache\\local-packages\\Python311\\site-packages\\requests\\sessions.py:15\u001b[0m\n\u001b[0;32m     12\u001b[0m \u001b[38;5;28;01mfrom\u001b[39;00m \u001b[38;5;21;01mdatetime\u001b[39;00m \u001b[38;5;28;01mimport\u001b[39;00m timedelta\n\u001b[0;32m     14\u001b[0m \u001b[38;5;28;01mfrom\u001b[39;00m \u001b[38;5;21;01m.\u001b[39;00m\u001b[38;5;21;01m_internal_utils\u001b[39;00m \u001b[38;5;28;01mimport\u001b[39;00m to_native_string\n\u001b[1;32m---> 15\u001b[0m \u001b[38;5;28;01mfrom\u001b[39;00m \u001b[38;5;21;01m.\u001b[39;00m\u001b[38;5;21;01madapters\u001b[39;00m \u001b[38;5;28;01mimport\u001b[39;00m HTTPAdapter\n\u001b[0;32m     16\u001b[0m \u001b[38;5;28;01mfrom\u001b[39;00m \u001b[38;5;21;01m.\u001b[39;00m\u001b[38;5;21;01mauth\u001b[39;00m \u001b[38;5;28;01mimport\u001b[39;00m _basic_auth_str\n\u001b[0;32m     17\u001b[0m \u001b[38;5;28;01mfrom\u001b[39;00m \u001b[38;5;21;01m.\u001b[39;00m\u001b[38;5;21;01mcompat\u001b[39;00m \u001b[38;5;28;01mimport\u001b[39;00m Mapping, cookielib, urljoin, urlparse\n",
      "File \u001b[1;32m~\\AppData\\Local\\Packages\\PythonSoftwareFoundation.Python.3.11_qbz5n2kfra8p0\\LocalCache\\local-packages\\Python311\\site-packages\\requests\\adapters.py:81\u001b[0m\n\u001b[0;32m     78\u001b[0m     \u001b[38;5;28;01mimport\u001b[39;00m \u001b[38;5;21;01mssl\u001b[39;00m  \u001b[38;5;66;03m# noqa: F401\u001b[39;00m\n\u001b[0;32m     80\u001b[0m     _preloaded_ssl_context \u001b[38;5;241m=\u001b[39m create_urllib3_context()\n\u001b[1;32m---> 81\u001b[0m     \u001b[43m_preloaded_ssl_context\u001b[49m\u001b[38;5;241;43m.\u001b[39;49m\u001b[43mload_verify_locations\u001b[49m\u001b[43m(\u001b[49m\n\u001b[0;32m     82\u001b[0m \u001b[43m        \u001b[49m\u001b[43mextract_zipped_paths\u001b[49m\u001b[43m(\u001b[49m\u001b[43mDEFAULT_CA_BUNDLE_PATH\u001b[49m\u001b[43m)\u001b[49m\n\u001b[0;32m     83\u001b[0m \u001b[43m    \u001b[49m\u001b[43m)\u001b[49m\n\u001b[0;32m     84\u001b[0m \u001b[38;5;28;01mexcept\u001b[39;00m \u001b[38;5;167;01mImportError\u001b[39;00m:\n\u001b[0;32m     85\u001b[0m     \u001b[38;5;66;03m# Bypass default SSLContext creation when Python\u001b[39;00m\n\u001b[0;32m     86\u001b[0m     \u001b[38;5;66;03m# interpreter isn't built with the ssl module.\u001b[39;00m\n\u001b[0;32m     87\u001b[0m     _preloaded_ssl_context \u001b[38;5;241m=\u001b[39m \u001b[38;5;28;01mNone\u001b[39;00m\n",
      "\u001b[1;31mKeyboardInterrupt\u001b[0m: "
     ]
    }
   ],
   "source": [
    "from pykeen.pipeline import pipeline\n",
    "from pykeen.triples import TriplesFactory\n",
    "\n",
    "# Sample RDF triple list (replace this with your real RDF data)\n",
    "# For example: triples = [(str(s), str(p), str(o)) for s, p, o in graph]\n",
    "triples = [(s, p, o) for s, p, o in g]  # g is your RDFLib Graph\n",
    "\n",
    "# Convert triples into PyKEEN-compatible TriplesFactory\n",
    "tf = TriplesFactory.from_labeled_triples(triples)\n",
    "\n",
    "# Train a basic TransE model\n",
    "results = pipeline(\n",
    "    training=tf,\n",
    "    model='TransE',\n",
    "    epochs=100,\n",
    "    learning_rate=0.01,\n",
    "    training_batch_size=128,\n",
    "    random_seed=42,\n",
    ")\n",
    "\n",
    "# Extract embeddings\n",
    "entity_embeddings = results.model.entity_embeddings.weight.detach().numpy()\n",
    "relation_embeddings = results.model.relation_embeddings.weight.detach().numpy()\n"
   ]
  },
  {
   "cell_type": "code",
   "execution_count": 2,
   "metadata": {},
   "outputs": [
    {
     "ename": "NameError",
     "evalue": "name 'results' is not defined",
     "output_type": "error",
     "traceback": [
      "\u001b[1;31m---------------------------------------------------------------------------\u001b[0m",
      "\u001b[1;31mNameError\u001b[0m                                 Traceback (most recent call last)",
      "Cell \u001b[1;32mIn[2], line 12\u001b[0m\n\u001b[0;32m      9\u001b[0m  \u001b[38;5;28;01mreturn\u001b[39;00m most_similar\n\u001b[0;32m     11\u001b[0m \u001b[38;5;66;03m# Link prediction\u001b[39;00m\n\u001b[1;32m---> 12\u001b[0m \u001b[43mresults\u001b[49m\u001b[38;5;241m.\u001b[39mevaluate()\n",
      "\u001b[1;31mNameError\u001b[0m: name 'results' is not defined"
     ]
    }
   ],
   "source": [
    "# Evaluate entity similarities\n",
    "from sklearn.metrics.pairwise import cosine_similarity\n",
    "import numpy as np\n",
    "\n",
    "def find_similar_entities(entity_id, entity_embeddings, top_k=5):\n",
    " entity_vector = entity_embeddings[entity_id].reshape(1, -1)\n",
    " similarities = cosine_similarity(entity_vector, entity_embeddings)\n",
    " most_similar = np.argsort(similarities[0])[-top_k-1:-1][::-1]\n",
    " return most_similar\n",
    "\n",
    "# Link prediction\n",
    "results.evaluate()"
   ]
  },
  {
   "cell_type": "code",
   "execution_count": null,
   "metadata": {},
   "outputs": [],
   "source": [
    "from pykeen.triples import TriplesFactory\n",
    "\n",
    "# Reuse your triples\n",
    "triples = [(s, p, o) for s, p, o in g]\n",
    "\n",
    "# Split into train/valid/test\n",
    "tf = TriplesFactory.from_labeled_triples(triples)\n",
    "training, validation, testing = tf.split([0.8, 0.1, 0.1])\n",
    "\n",
    "print(f\"Training triples: {training.num_triples}\")\n",
    "print(f\"Validation triples: {validation.num_triples}\")\n",
    "print(f\"Testing triples: {testing.num_triples}\")\n"
   ]
  },
  {
   "cell_type": "code",
   "execution_count": null,
   "metadata": {},
   "outputs": [],
   "source": [
    "from pykeen.pipeline import pipeline\n",
    "\n",
    "model_results = {}\n",
    "models = ['TransE', 'DistMult', 'ComplEx']\n",
    "\n",
    "for model_name in models:\n",
    "    print(f\"Training {model_name}...\")\n",
    "    results = pipeline(\n",
    "        training=training,\n",
    "        validation=validation,\n",
    "        testing=testing,\n",
    "        model=model_name,\n",
    "        epochs=100,\n",
    "        embedding_dim=50,\n",
    "        training_kwargs=dict(batch_size=32),\n",
    "        random_seed=42,\n",
    "    )\n",
    "    model_results[model_name] = results\n"
   ]
  },
  {
   "cell_type": "code",
   "execution_count": null,
   "metadata": {},
   "outputs": [],
   "source": [
    "def evaluate_model(results, model_name):\n",
    "    metrics = results.metric_results.to_dict()\n",
    "    print(f\"\\nResults for {model_name}:\")\n",
    "    print(f\"Mean Rank: {metrics['both']['mean_rank']:.2f}\")\n",
    "    print(f\"MRR: {metrics['both']['mean_reciprocal_rank']:.4f}\")\n",
    "    print(f\"Hits@1: {metrics['both']['hits_at_1']:.4f}\")\n",
    "    print(f\"Hits@3: {metrics['both']['hits_at_3']:.4f}\")\n",
    "    print(f\"Hits@10: {metrics['both']['hits_at_10']:.4f}\")\n",
    "\n",
    "for model_name, results in model_results.items():\n",
    "    evaluate_model(results, model_name)\n"
   ]
  },
  {
   "cell_type": "code",
   "execution_count": null,
   "metadata": {},
   "outputs": [],
   "source": [
    "import numpy as np\n",
    "from sklearn.metrics.pairwise import cosine_similarity\n",
    "\n",
    "def find_similar_entities(entity_id, model, top_k=5):\n",
    "    embeddings = model.entity_embeddings.weight.detach().numpy()\n",
    "    similarities = cosine_similarity([embeddings[entity_id]], embeddings)[0]\n",
    "    most_similar = np.argsort(similarities)[-top_k-1:-1][::-1]\n",
    "    entity_labels = model.triples_factory.entity_labeling.label_to_id\n",
    "    reverse_labels = {v: k for k, v in entity_labels.items()}\n",
    "    \n",
    "    print(f\"\\nMost similar entities to {reverse_labels[entity_id]}:\")\n",
    "    for idx in most_similar:\n",
    "        print(f\"{reverse_labels[idx]}: {similarities[idx]:.4f}\")\n"
   ]
  },
  {
   "cell_type": "code",
   "execution_count": null,
   "metadata": {},
   "outputs": [],
   "source": [
    "def predict_tail_entities(model, head_id, relation_id, k=5):\n",
    "    scores = model.predict_scores(\n",
    "        heads=torch.tensor([head_id]),\n",
    "        relations=torch.tensor([relation_id])\n",
    "    )\n",
    "    top_scores = torch.topk(scores, k=k, dim=1)\n",
    "\n",
    "    labels = model.triples_factory.entity_labeling.label_to_id\n",
    "    reverse_labels = {v: k for k, v in labels.items()}\n",
    "\n",
    "    return [(reverse_labels[idx.item()], score.item())\n",
    "            for idx, score in zip(top_scores.indices[0], top_scores.values[0])]\n"
   ]
  },
  {
   "cell_type": "code",
   "execution_count": null,
   "metadata": {},
   "outputs": [],
   "source": [
    "from sklearn.manifold import TSNE\n",
    "import matplotlib.pyplot as plt\n",
    "\n",
    "def visualize_embeddings(model):\n",
    "    embeddings = model.entity_embeddings.weight.detach().numpy()\n",
    "    tsne = TSNE(n_components=2, random_state=42)\n",
    "    reduced = tsne.fit_transform(embeddings)\n",
    "\n",
    "    plt.figure(figsize=(10, 10))\n",
    "    plt.scatter(reduced[:, 0], reduced[:, 1], alpha=0.6)\n",
    "    plt.title(\"t-SNE of Entity Embeddings\")\n",
    "    plt.show()\n"
   ]
  },
  {
   "cell_type": "code",
   "execution_count": null,
   "metadata": {},
   "outputs": [],
   "source": [
    "import pandas as pd\n",
    "\n",
    "def create_comparison_table(model_results):\n",
    "    metrics = ['mean_rank', 'mean_reciprocal_rank', 'hits_at_10']\n",
    "    comparison = {}\n",
    "\n",
    "    for model_name, results in model_results.items():\n",
    "        metric_values = results.metric_results.to_dict()['both']\n",
    "        comparison[model_name] = {m: round(metric_values[m], 4) for m in metrics}\n",
    "\n",
    "    return pd.DataFrame(comparison).T\n",
    "\n",
    "create_comparison_table(model_results)\n"
   ]
  },
  {
   "cell_type": "code",
   "execution_count": 6,
   "metadata": {},
   "outputs": [
    {
     "name": "stderr",
     "output_type": "stream",
     "text": [
      "using automatically assigned random_state=150512018\n",
      "No cuda devices were available. The model runs on CPU\n"
     ]
    },
    {
     "name": "stdout",
     "output_type": "stream",
     "text": [
      "Training TransE...\n"
     ]
    },
    {
     "name": "stderr",
     "output_type": "stream",
     "text": [
      "Training epochs on cpu: 100%|██████████| 100/100 [00:27<00:00,  3.67epoch/s, loss=0.121, prev_loss=0.143] \n",
      "WARNING:pykeen.utils:Using automatic batch size on device.type='cpu' can cause unexplained out-of-memory crashes. Therefore, we use a conservative small batch_size=32. Performance may be improved by explicitly specifying a larger batch size.\n",
      "Evaluating on cpu:   0%|          | 0.00/2.00 [00:00<?, ?triple/s]WARNING:torch_max_mem.api:Encountered tensors on device_types={'cpu'} while only ['cuda'] are considered safe for automatic memory utilization maximization. This may lead to undocumented crashes (but can be safe, too).\n",
      "Evaluating on cpu: 100%|██████████| 2.00/2.00 [00:00<00:00, 14.1triple/s]\n",
      "INFO:pykeen.evaluation.evaluator:Evaluation took 0.16s seconds\n",
      "WARNING:pykeen.utils:No cuda devices were available. The model runs on CPU\n",
      "INFO:pykeen.pipeline.api:Using device: None\n"
     ]
    },
    {
     "name": "stdout",
     "output_type": "stream",
     "text": [
      "Training DistMult...\n"
     ]
    },
    {
     "name": "stderr",
     "output_type": "stream",
     "text": [
      "Training epochs on cpu: 100%|██████████| 100/100 [00:28<00:00,  3.50epoch/s, loss=0.909, prev_loss=0.919]\n",
      "WARNING:pykeen.utils:Using automatic batch size on device.type='cpu' can cause unexplained out-of-memory crashes. Therefore, we use a conservative small batch_size=32. Performance may be improved by explicitly specifying a larger batch size.\n",
      "Evaluating on cpu:   0%|          | 0.00/2.00 [00:00<?, ?triple/s]WARNING:torch_max_mem.api:Encountered tensors on device_types={'cpu'} while only ['cuda'] are considered safe for automatic memory utilization maximization. This may lead to undocumented crashes (but can be safe, too).\n",
      "Evaluating on cpu: 100%|██████████| 2.00/2.00 [00:00<00:00, 9.35triple/s]\n",
      "INFO:pykeen.evaluation.evaluator:Evaluation took 0.24s seconds\n",
      "WARNING:pykeen.utils:No cuda devices were available. The model runs on CPU\n",
      "INFO:pykeen.pipeline.api:Using device: None\n"
     ]
    },
    {
     "name": "stdout",
     "output_type": "stream",
     "text": [
      "Training ComplEx...\n"
     ]
    },
    {
     "name": "stderr",
     "output_type": "stream",
     "text": [
      "Training epochs on cpu: 100%|██████████| 100/100 [00:22<00:00,  4.38epoch/s, loss=0.887, prev_loss=3.55]\n",
      "WARNING:pykeen.utils:Using automatic batch size on device.type='cpu' can cause unexplained out-of-memory crashes. Therefore, we use a conservative small batch_size=32. Performance may be improved by explicitly specifying a larger batch size.\n",
      "Evaluating on cpu:   0%|          | 0.00/2.00 [00:00<?, ?triple/s]WARNING:torch_max_mem.api:Encountered tensors on device_types={'cpu'} while only ['cuda'] are considered safe for automatic memory utilization maximization. This may lead to undocumented crashes (but can be safe, too).\n",
      "Evaluating on cpu: 100%|██████████| 2.00/2.00 [00:00<00:00, 17.6triple/s]\n",
      "INFO:pykeen.evaluation.evaluator:Evaluation took 0.13s seconds\n"
     ]
    }
   ],
   "source": [
    "# ✅ Minimal test setup for KG Embedding pipeline\n",
    "\n",
    "from pykeen.pipeline import pipeline\n",
    "from pykeen.triples import TriplesFactory\n",
    "import torch\n",
    "import numpy as np\n",
    "from sklearn.metrics.pairwise import cosine_similarity\n",
    "from sklearn.manifold import TSNE\n",
    "import matplotlib.pyplot as plt\n",
    "import pandas as pd\n",
    "\n",
    "# 🔹 Step 1: Create dummy triples\n",
    "triples = [\n",
    "    ('France', 'has_capital', 'Paris'),\n",
    "    ('France', 'has_president', 'Macron'),\n",
    "    ('Macron', 'born_in', 'Amiens'),\n",
    "    \n",
    "    ('Germany', 'has_capital', 'Berlin'),\n",
    "    ('Germany', 'has_chancellor', 'Scholz'),\n",
    "    ('Scholz', 'born_in', 'Osnabrück'),\n",
    "    \n",
    "    ('Spain', 'has_capital', 'Madrid'),\n",
    "    ('Spain', 'has_monarch', 'Felipe_VI'),\n",
    "    ('Felipe_VI', 'born_in', 'Madrid'),\n",
    "\n",
    "    ('Italy', 'has_capital', 'Rome'),\n",
    "    ('Italy', 'has_prime_minister', 'Meloni'),\n",
    "    ('Meloni', 'born_in', 'Rome'),\n",
    "\n",
    "    ('UK', 'has_capital', 'London'),\n",
    "    ('UK', 'has_prime_minister', 'Sunak'),\n",
    "    ('Sunak', 'born_in', 'Southampton'),\n",
    "\n",
    "    ('USA', 'has_capital', 'Washington'),\n",
    "    ('USA', 'has_president', 'Biden'),\n",
    "    ('Biden', 'born_in', 'Scranton'),\n",
    "\n",
    "    ('UN', 'headquartered_in', 'New_York'),\n",
    "    ('EU', 'headquartered_in', 'Brussels'),\n",
    "\n",
    "    ('Macron', 'member_of', 'EU'),\n",
    "    ('Scholz', 'member_of', 'EU'),\n",
    "    ('Sunak', 'member_of', 'UN'),\n",
    "    ('Biden', 'member_of', 'UN'),\n",
    "\n",
    "    ('France', 'member_of', 'EU'),\n",
    "    ('Germany', 'member_of', 'EU'),\n",
    "    ('UK', 'member_of', 'UN'),\n",
    "    ('USA', 'member_of', 'UN'),\n",
    "]\n",
    "\n",
    "\n",
    "\n",
    "# 🔹 Step 2: Convert to PyKEEN triples\n",
    "triples_array = np.array(triples, dtype=str)\n",
    "tf = TriplesFactory.from_labeled_triples(triples_array)\n",
    "\n",
    "# 🔹 Step 3: Split into train/valid/test\n",
    "training, validation, testing = tf.split([0.8, 0.1, 0.1], method='deterministic')\n",
    "\n",
    "\n",
    "# 🔹 Step 4: Train multiple models\n",
    "model_results = {}\n",
    "models = ['TransE', 'DistMult', 'ComplEx']\n",
    "\n",
    "for model_name in models:\n",
    "    print(f\"Training {model_name}...\")\n",
    "    results = pipeline(\n",
    "    training=training,\n",
    "    validation=validation,\n",
    "    testing=testing,\n",
    "    model=model_name,\n",
    "    model_kwargs=dict(embedding_dim=50),\n",
    "    epochs=100,\n",
    "    training_kwargs=dict(batch_size=32),\n",
    "    random_seed=42,\n",
    ")\n",
    "    model_results[model_name] = results\n"
   ]
  },
  {
   "cell_type": "code",
   "execution_count": 11,
   "metadata": {},
   "outputs": [
    {
     "name": "stdout",
     "output_type": "stream",
     "text": [
      "\n",
      "Results for TransE (realistic ranking):\n",
      "\n",
      "Results for DistMult (realistic ranking):\n",
      "\n",
      "Results for ComplEx (realistic ranking):\n"
     ]
    },
    {
     "data": {
      "text/html": [
       "<div>\n",
       "<style scoped>\n",
       "    .dataframe tbody tr th:only-of-type {\n",
       "        vertical-align: middle;\n",
       "    }\n",
       "\n",
       "    .dataframe tbody tr th {\n",
       "        vertical-align: top;\n",
       "    }\n",
       "\n",
       "    .dataframe thead th {\n",
       "        text-align: right;\n",
       "    }\n",
       "</style>\n",
       "<table border=\"1\" class=\"dataframe\">\n",
       "  <thead>\n",
       "    <tr style=\"text-align: right;\">\n",
       "      <th></th>\n",
       "      <th>mean_rank</th>\n",
       "      <th>mean_reciprocal_rank</th>\n",
       "      <th>hits_at_10</th>\n",
       "    </tr>\n",
       "  </thead>\n",
       "  <tbody>\n",
       "    <tr>\n",
       "      <th>TransE</th>\n",
       "      <td>-1</td>\n",
       "      <td>-1</td>\n",
       "      <td>-1</td>\n",
       "    </tr>\n",
       "    <tr>\n",
       "      <th>DistMult</th>\n",
       "      <td>-1</td>\n",
       "      <td>-1</td>\n",
       "      <td>-1</td>\n",
       "    </tr>\n",
       "    <tr>\n",
       "      <th>ComplEx</th>\n",
       "      <td>-1</td>\n",
       "      <td>-1</td>\n",
       "      <td>-1</td>\n",
       "    </tr>\n",
       "  </tbody>\n",
       "</table>\n",
       "</div>"
      ],
      "text/plain": [
       "          mean_rank  mean_reciprocal_rank  hits_at_10\n",
       "TransE           -1                    -1          -1\n",
       "DistMult         -1                    -1          -1\n",
       "ComplEx          -1                    -1          -1"
      ]
     },
     "execution_count": 11,
     "metadata": {},
     "output_type": "execute_result"
    }
   ],
   "source": [
    "# Evaluation metrics\n",
    "def evaluate_model(results, model_name):\n",
    "    metrics = results.metric_results.to_dict()\n",
    "    real = metrics.get('realistic', {})\n",
    "    \n",
    "    print(f\"\\nResults for {model_name} (realistic ranking):\")\n",
    "    for k in ['mean_rank', 'mean_reciprocal_rank', 'hits_at_1', 'hits_at_3', 'hits_at_10']:\n",
    "        if k in real:\n",
    "            print(f\"{k}: {real[k]:.4f}\")\n",
    "\n",
    "\n",
    "\n",
    "# Display all models' metrics\n",
    "for name, result in model_results.items():\n",
    "    evaluate_model(result, name)\n",
    "\n",
    "# Comparison table\n",
    "def create_comparison_table(model_results):\n",
    "    metrics_to_extract = ['mean_rank', 'mean_reciprocal_rank', 'hits_at_10']\n",
    "    comparison = {}\n",
    "\n",
    "    for name, result in model_results.items():\n",
    "        real = result.metric_results.to_dict().get('realistic', {})\n",
    "        comparison[name] = {\n",
    "            metric: round(real.get(metric, -1), 4) for metric in metrics_to_extract\n",
    "        }\n",
    "\n",
    "    return pd.DataFrame(comparison).T\n",
    "\n",
    "\n",
    "create_comparison_table(model_results)\n"
   ]
  },
  {
   "cell_type": "code",
   "execution_count": 12,
   "metadata": {},
   "outputs": [
    {
     "name": "stdout",
     "output_type": "stream",
     "text": [
      "Train: 14\n",
      "Valid: 2\n",
      "Test: 2\n"
     ]
    }
   ],
   "source": [
    "print(f\"Train: {training.num_triples}\")\n",
    "print(f\"Valid: {validation.num_triples}\")\n",
    "print(f\"Test: {testing.num_triples}\")\n"
   ]
  },
  {
   "cell_type": "code",
   "execution_count": null,
   "metadata": {},
   "outputs": [],
   "source": [
    "# Entity Similarity\n",
    "def find_similar_entities(entity_id, model, top_k=5):\n",
    "    embeddings = model.entity_embeddings.weight.detach().numpy()\n",
    "    similarities = cosine_similarity([embeddings[entity_id]], embeddings)[0]\n",
    "    most_similar = np.argsort(similarities)[-top_k-1:-1][::-1]\n",
    "    labels = model.triples_factory.entity_labeling.label_to_id\n",
    "    reverse_labels = {v: k for k, v in labels.items()}\n",
    "    \n",
    "    print(f\"\\nMost similar entities to {reverse_labels[entity_id]}:\")\n",
    "    for idx in most_similar:\n",
    "        print(f\"{reverse_labels[idx]}: {similarities[idx]:.4f}\")\n",
    "\n",
    "# t-SNE Embedding Visualization\n",
    "def visualize_embeddings(model):\n",
    "    embeddings = model.entity_embeddings.weight.detach().numpy()\n",
    "    tsne = TSNE(n_components=2, random_state=42)\n",
    "    reduced = tsne.fit_transform(embeddings)\n",
    "\n",
    "    plt.figure(figsize=(10, 10))\n",
    "    plt.scatter(reduced[:, 0], reduced[:, 1], alpha=0.6)\n",
    "    plt.title(\"t-SNE of Entity Embeddings\")\n",
    "    plt.show()\n"
   ]
  }
 ],
 "metadata": {
  "kernelspec": {
   "display_name": "Python 3",
   "language": "python",
   "name": "python3"
  },
  "language_info": {
   "codemirror_mode": {
    "name": "ipython",
    "version": 3
   },
   "file_extension": ".py",
   "mimetype": "text/x-python",
   "name": "python",
   "nbconvert_exporter": "python",
   "pygments_lexer": "ipython3",
   "version": "3.11.9"
  }
 },
 "nbformat": 4,
 "nbformat_minor": 2
}
